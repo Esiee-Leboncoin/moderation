{
 "cells": [
  {
   "cell_type": "markdown",
   "metadata": {},
   "source": [
    "# Régression logistique sur \"offers_with_10k_each_contracts\""
   ]
  },
  {
   "cell_type": "markdown",
   "metadata": {},
   "source": [
    "Sans exploiter la description des offres."
   ]
  },
  {
   "cell_type": "code",
   "execution_count": 1,
   "metadata": {},
   "outputs": [],
   "source": [
    "import pandas as pd \n",
    "import matplotlib.pyplot as plt\n",
    "import numpy as np\n",
    "\n",
    "import sklearn\n",
    "from sklearn.linear_model import LogisticRegression\n",
    "#from sklearn.cross_validation import train_test_split\n",
    "from sklearn.metrics import confusion_matrix, classification_report"
   ]
  },
  {
   "cell_type": "code",
   "execution_count": 2,
   "metadata": {},
   "outputs": [
    {
     "data": {
      "text/html": [
       "<div>\n",
       "<style scoped>\n",
       "    .dataframe tbody tr th:only-of-type {\n",
       "        vertical-align: middle;\n",
       "    }\n",
       "\n",
       "    .dataframe tbody tr th {\n",
       "        vertical-align: top;\n",
       "    }\n",
       "\n",
       "    .dataframe thead th {\n",
       "        text-align: right;\n",
       "    }\n",
       "</style>\n",
       "<table border=\"1\" class=\"dataframe\">\n",
       "  <thead>\n",
       "    <tr style=\"text-align: right;\">\n",
       "      <th></th>\n",
       "      <th>offer_id</th>\n",
       "      <th>title</th>\n",
       "      <th>description</th>\n",
       "      <th>contract_id</th>\n",
       "      <th>recruiter_id</th>\n",
       "      <th>department_id</th>\n",
       "      <th>industry_id</th>\n",
       "      <th>location</th>\n",
       "      <th>latitude</th>\n",
       "      <th>longitude</th>\n",
       "      <th>created_at</th>\n",
       "    </tr>\n",
       "  </thead>\n",
       "  <tbody>\n",
       "    <tr>\n",
       "      <th>0</th>\n",
       "      <td>620861</td>\n",
       "      <td>Développeur(euse) Android expérimenté(e)</td>\n",
       "      <td>LE POSTE\\r\\nNous mettons aujourd’hui en place ...</td>\n",
       "      <td>1</td>\n",
       "      <td>17524.0</td>\n",
       "      <td>114.0</td>\n",
       "      <td>17.0</td>\n",
       "      <td>5 Rue François 1er, Paris, France</td>\n",
       "      <td>48.865561</td>\n",
       "      <td>2.308744</td>\n",
       "      <td>2017-06-01 10:37:48.322823</td>\n",
       "    </tr>\n",
       "    <tr>\n",
       "      <th>1</th>\n",
       "      <td>620862</td>\n",
       "      <td>Ingénieur QA Mobile</td>\n",
       "      <td>LE POSTE\\r\\nEn tant qu’Ingénieur Qualité Mobil...</td>\n",
       "      <td>1</td>\n",
       "      <td>17524.0</td>\n",
       "      <td>114.0</td>\n",
       "      <td>17.0</td>\n",
       "      <td>5 Rue François 1er, Paris, France</td>\n",
       "      <td>48.865561</td>\n",
       "      <td>2.308744</td>\n",
       "      <td>2017-06-01 10:45:00.950319</td>\n",
       "    </tr>\n",
       "    <tr>\n",
       "      <th>2</th>\n",
       "      <td>330503</td>\n",
       "      <td>Vérificateur Documents Techniques Aéronautique...</td>\n",
       "      <td>Technicien Vérificateur Documents Techniques A...</td>\n",
       "      <td>1</td>\n",
       "      <td>NaN</td>\n",
       "      <td>108.0</td>\n",
       "      <td>15.0</td>\n",
       "      <td>Donauwörth</td>\n",
       "      <td>48.735699</td>\n",
       "      <td>10.791800</td>\n",
       "      <td>2015-03-26 04:16:35.620706</td>\n",
       "    </tr>\n",
       "    <tr>\n",
       "      <th>3</th>\n",
       "      <td>623978</td>\n",
       "      <td>Chef de Produit Mobile</td>\n",
       "      <td>L’EQUIPE\\r\\nL’équipe Produit &amp; Innovation poss...</td>\n",
       "      <td>1</td>\n",
       "      <td>17524.0</td>\n",
       "      <td>115.0</td>\n",
       "      <td>17.0</td>\n",
       "      <td>5 Rue François 1er, Paris, France</td>\n",
       "      <td>48.865561</td>\n",
       "      <td>2.308744</td>\n",
       "      <td>2017-07-18 14:04:00.652073</td>\n",
       "    </tr>\n",
       "    <tr>\n",
       "      <th>4</th>\n",
       "      <td>391895</td>\n",
       "      <td>Ordonnanceur H/F</td>\n",
       "      <td>Entreprise :\\n\\nOPTIMA IP, cabinet de recrutem...</td>\n",
       "      <td>1</td>\n",
       "      <td>NaN</td>\n",
       "      <td>117.0</td>\n",
       "      <td>20.0</td>\n",
       "      <td>Sucy-en-Brie, France</td>\n",
       "      <td>48.770802</td>\n",
       "      <td>2.538860</td>\n",
       "      <td>2015-05-22 10:38:42.117161</td>\n",
       "    </tr>\n",
       "  </tbody>\n",
       "</table>\n",
       "</div>"
      ],
      "text/plain": [
       "   offer_id                                              title  \\\n",
       "0    620861           Développeur(euse) Android expérimenté(e)   \n",
       "1    620862                                Ingénieur QA Mobile   \n",
       "2    330503  Vérificateur Documents Techniques Aéronautique...   \n",
       "3    623978                             Chef de Produit Mobile   \n",
       "4    391895                                   Ordonnanceur H/F   \n",
       "\n",
       "                                         description  contract_id  \\\n",
       "0  LE POSTE\\r\\nNous mettons aujourd’hui en place ...            1   \n",
       "1  LE POSTE\\r\\nEn tant qu’Ingénieur Qualité Mobil...            1   \n",
       "2  Technicien Vérificateur Documents Techniques A...            1   \n",
       "3  L’EQUIPE\\r\\nL’équipe Produit & Innovation poss...            1   \n",
       "4  Entreprise :\\n\\nOPTIMA IP, cabinet de recrutem...            1   \n",
       "\n",
       "   recruiter_id  department_id  industry_id  \\\n",
       "0       17524.0          114.0         17.0   \n",
       "1       17524.0          114.0         17.0   \n",
       "2           NaN          108.0         15.0   \n",
       "3       17524.0          115.0         17.0   \n",
       "4           NaN          117.0         20.0   \n",
       "\n",
       "                            location   latitude  longitude  \\\n",
       "0  5 Rue François 1er, Paris, France  48.865561   2.308744   \n",
       "1  5 Rue François 1er, Paris, France  48.865561   2.308744   \n",
       "2                         Donauwörth  48.735699  10.791800   \n",
       "3  5 Rue François 1er, Paris, France  48.865561   2.308744   \n",
       "4               Sucy-en-Brie, France  48.770802   2.538860   \n",
       "\n",
       "                   created_at  \n",
       "0  2017-06-01 10:37:48.322823  \n",
       "1  2017-06-01 10:45:00.950319  \n",
       "2  2015-03-26 04:16:35.620706  \n",
       "3  2017-07-18 14:04:00.652073  \n",
       "4  2015-05-22 10:38:42.117161  "
      ]
     },
     "execution_count": 2,
     "metadata": {},
     "output_type": "execute_result"
    }
   ],
   "source": [
    "#Import du fichier\n",
    "AA = pd.read_csv(\"./../data/offers_with_10k_each_contracts.csv\", encoding='utf-8')\n",
    "AA.head()"
   ]
  },
  {
   "cell_type": "code",
   "execution_count": 3,
   "metadata": {},
   "outputs": [
    {
     "data": {
      "text/plain": [
       "3    10000\n",
       "2    10000\n",
       "1    10000\n",
       "4     4800\n",
       "5     3694\n",
       "Name: contract_id, dtype: int64"
      ]
     },
     "execution_count": 3,
     "metadata": {},
     "output_type": "execute_result"
    }
   ],
   "source": [
    "#Répartition des contrats\n",
    "AA.contract_id.value_counts()"
   ]
  },
  {
   "cell_type": "code",
   "execution_count": 4,
   "metadata": {},
   "outputs": [
    {
     "data": {
      "text/plain": [
       "False    38471\n",
       "True        23\n",
       "Name: industry_id, dtype: int64"
      ]
     },
     "execution_count": 4,
     "metadata": {},
     "output_type": "execute_result"
    }
   ],
   "source": [
    "#Nombre de valeurs \"Nan\" dans industry_id\n",
    "AA.industry_id.isnull().value_counts()"
   ]
  },
  {
   "cell_type": "code",
   "execution_count": 5,
   "metadata": {},
   "outputs": [
    {
     "data": {
      "text/plain": [
       "False    31270\n",
       "True      7224\n",
       "Name: department_id, dtype: int64"
      ]
     },
     "execution_count": 5,
     "metadata": {},
     "output_type": "execute_result"
    }
   ],
   "source": [
    "#Nombre de valeurs \"Nan\" dans department_id\n",
    "AA.department_id.isnull().value_counts()"
   ]
  },
  {
   "cell_type": "code",
   "execution_count": 6,
   "metadata": {},
   "outputs": [
    {
     "data": {
      "text/plain": [
       "True     28336\n",
       "False    10158\n",
       "Name: recruiter_id, dtype: int64"
      ]
     },
     "execution_count": 6,
     "metadata": {},
     "output_type": "execute_result"
    }
   ],
   "source": [
    "#Nombre de valeurs \"Nan\" dans recruiter_id\n",
    "AA.recruiter_id.isnull().value_counts()"
   ]
  },
  {
   "cell_type": "markdown",
   "metadata": {},
   "source": [
    "**Problème :**\n",
    "\n",
    "1/4 des valeurs pour department_id sont des valeurs \"Nan\". Il faut trouver une solution afin de ne pas perdre d'information et de données."
   ]
  },
  {
   "cell_type": "code",
   "execution_count": 7,
   "metadata": {},
   "outputs": [],
   "source": [
    "from sklearn.impute import SimpleImputer"
   ]
  },
  {
   "cell_type": "code",
   "execution_count": 9,
   "metadata": {},
   "outputs": [],
   "source": [
    "#Remplacer les valeurs manquantes par les valeurs les plus fréquentes\n",
    "\n",
    "#imp = SimpleImputer(missing_values=np.nan,strategy=\"most_frequent\")\n",
    "#imp.fit_transform(AA)\n",
    "\n",
    "#TROP LONG A EXECUTER !!!!\n",
    "#Shuffle les données et en prendre seulement 10 000"
   ]
  }
 ],
 "metadata": {
  "kernelspec": {
   "display_name": "Python 3",
   "language": "python",
   "name": "python3"
  },
  "language_info": {
   "codemirror_mode": {
    "name": "ipython",
    "version": 3
   },
   "file_extension": ".py",
   "mimetype": "text/x-python",
   "name": "python",
   "nbconvert_exporter": "python",
   "pygments_lexer": "ipython3",
   "version": "3.6.4"
  }
 },
 "nbformat": 4,
 "nbformat_minor": 2
}
