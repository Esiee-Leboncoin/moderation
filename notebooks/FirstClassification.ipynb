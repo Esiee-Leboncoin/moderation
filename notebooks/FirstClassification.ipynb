{
 "cells": [
  {
   "cell_type": "code",
   "execution_count": 138,
   "metadata": {},
   "outputs": [],
   "source": [
    "import pandas as pd \n",
    "import matplotlib.pyplot as plt\n",
    "import numpy as np\n",
    "\n",
    "import sklearn\n",
    "from sklearn.linear_model import LogisticRegression\n",
    "from sklearn.cross_validation import train_test_split\n",
    "from sklearn.metrics import confusion_matrix, classification_report"
   ]
  },
  {
   "cell_type": "code",
   "execution_count": 139,
   "metadata": {},
   "outputs": [
    {
     "data": {
      "text/html": [
       "<div>\n",
       "<style scoped>\n",
       "    .dataframe tbody tr th:only-of-type {\n",
       "        vertical-align: middle;\n",
       "    }\n",
       "\n",
       "    .dataframe tbody tr th {\n",
       "        vertical-align: top;\n",
       "    }\n",
       "\n",
       "    .dataframe thead th {\n",
       "        text-align: right;\n",
       "    }\n",
       "</style>\n",
       "<table border=\"1\" class=\"dataframe\">\n",
       "  <thead>\n",
       "    <tr style=\"text-align: right;\">\n",
       "      <th></th>\n",
       "      <th>title</th>\n",
       "      <th>description</th>\n",
       "      <th>contract_id</th>\n",
       "      <th>recruiter_id</th>\n",
       "      <th>department_id</th>\n",
       "      <th>industry_id</th>\n",
       "      <th>location</th>\n",
       "      <th>latitude</th>\n",
       "      <th>longitude</th>\n",
       "      <th>created_at</th>\n",
       "    </tr>\n",
       "  </thead>\n",
       "  <tbody>\n",
       "    <tr>\n",
       "      <th>0</th>\n",
       "      <td>Commercial B2B Solutions Print (75) F/H</td>\n",
       "      <td>&lt;p&gt;Au sein de votre agence régionale, vous com...</td>\n",
       "      <td>1.0</td>\n",
       "      <td>21587</td>\n",
       "      <td>101.0</td>\n",
       "      <td>16.0</td>\n",
       "      <td>Paris 01 - 75, France</td>\n",
       "      <td>48.862903</td>\n",
       "      <td>2.335955</td>\n",
       "      <td>2018-03-28 12:46:34.408753</td>\n",
       "    </tr>\n",
       "    <tr>\n",
       "      <th>1</th>\n",
       "      <td>Chargé de relation client - vente d'évènements...</td>\n",
       "      <td>&lt;p&gt;Au sein d’une structure de 8 personnes et d...</td>\n",
       "      <td>1.0</td>\n",
       "      <td>21587</td>\n",
       "      <td>101.0</td>\n",
       "      <td>9.0</td>\n",
       "      <td>Paris 09 - 75, France</td>\n",
       "      <td>48.877906</td>\n",
       "      <td>2.337972</td>\n",
       "      <td>2018-03-28 12:46:34.018429</td>\n",
       "    </tr>\n",
       "    <tr>\n",
       "      <th>2</th>\n",
       "      <td>Ingénieur Commercial IDF F/H</td>\n",
       "      <td>&lt;p&gt;Sur un marché d’avenir à forte croissance, ...</td>\n",
       "      <td>1.0</td>\n",
       "      <td>21587</td>\n",
       "      <td>101.0</td>\n",
       "      <td>9.0</td>\n",
       "      <td>Paris 05 - 75, France</td>\n",
       "      <td>48.842172</td>\n",
       "      <td>2.350580</td>\n",
       "      <td>2018-03-28 12:46:33.604334</td>\n",
       "    </tr>\n",
       "    <tr>\n",
       "      <th>3</th>\n",
       "      <td>Account Manager Media Payant - CDI - F/H</td>\n",
       "      <td>&lt;p&gt;**Intégré à l’équipe Paid Media**, vous aur...</td>\n",
       "      <td>1.0</td>\n",
       "      <td>21587</td>\n",
       "      <td>101.0</td>\n",
       "      <td>19.0</td>\n",
       "      <td>Paris 11 - 75, France</td>\n",
       "      <td>48.857993</td>\n",
       "      <td>2.381153</td>\n",
       "      <td>2018-03-28 12:46:33.131170</td>\n",
       "    </tr>\n",
       "    <tr>\n",
       "      <th>4</th>\n",
       "      <td>Responsable Grand Compte Groupe PSA F/H</td>\n",
       "      <td>&lt;p&gt;Principales responsabilités :&lt;/p&gt;&lt;ul&gt;&lt;li&gt;Id...</td>\n",
       "      <td>1.0</td>\n",
       "      <td>21587</td>\n",
       "      <td>101.0</td>\n",
       "      <td>15.0</td>\n",
       "      <td>Paris 01 - 75, France</td>\n",
       "      <td>48.862903</td>\n",
       "      <td>2.335955</td>\n",
       "      <td>2018-03-28 12:46:31.997686</td>\n",
       "    </tr>\n",
       "  </tbody>\n",
       "</table>\n",
       "</div>"
      ],
      "text/plain": [
       "                                               title  \\\n",
       "0            Commercial B2B Solutions Print (75) F/H   \n",
       "1  Chargé de relation client - vente d'évènements...   \n",
       "2                       Ingénieur Commercial IDF F/H   \n",
       "3           Account Manager Media Payant - CDI - F/H   \n",
       "4            Responsable Grand Compte Groupe PSA F/H   \n",
       "\n",
       "                                         description  contract_id  \\\n",
       "0  <p>Au sein de votre agence régionale, vous com...          1.0   \n",
       "1  <p>Au sein d’une structure de 8 personnes et d...          1.0   \n",
       "2  <p>Sur un marché d’avenir à forte croissance, ...          1.0   \n",
       "3  <p>**Intégré à l’équipe Paid Media**, vous aur...          1.0   \n",
       "4  <p>Principales responsabilités :</p><ul><li>Id...          1.0   \n",
       "\n",
       "   recruiter_id  department_id  industry_id               location   latitude  \\\n",
       "0         21587          101.0         16.0  Paris 01 - 75, France  48.862903   \n",
       "1         21587          101.0          9.0  Paris 09 - 75, France  48.877906   \n",
       "2         21587          101.0          9.0  Paris 05 - 75, France  48.842172   \n",
       "3         21587          101.0         19.0  Paris 11 - 75, France  48.857993   \n",
       "4         21587          101.0         15.0  Paris 01 - 75, France  48.862903   \n",
       "\n",
       "   longitude                  created_at  \n",
       "0   2.335955  2018-03-28 12:46:34.408753  \n",
       "1   2.337972  2018-03-28 12:46:34.018429  \n",
       "2   2.350580  2018-03-28 12:46:33.604334  \n",
       "3   2.381153  2018-03-28 12:46:33.131170  \n",
       "4   2.335955  2018-03-28 12:46:31.997686  "
      ]
     },
     "execution_count": 139,
     "metadata": {},
     "output_type": "execute_result"
    }
   ],
   "source": [
    "#Import du fichier\n",
    "AA = pd.read_csv(\"./../data/offers.csv\", encoding='utf-8')\n",
    "AA.head()"
   ]
  },
  {
   "cell_type": "code",
   "execution_count": 137,
   "metadata": {},
   "outputs": [],
   "source": [
    "#AA.department_id.fillna(101.0).value_counts()"
   ]
  },
  {
   "cell_type": "code",
   "execution_count": 140,
   "metadata": {},
   "outputs": [],
   "source": [
    "dataset = AA\n",
    "\n",
    "#dataset = AA.dropna(axis=0, how='any')           #Suppression des lignes qui contiennent une valeur 'Nan'"
   ]
  },
  {
   "cell_type": "code",
   "execution_count": 142,
   "metadata": {},
   "outputs": [],
   "source": [
    "import sklearn"
   ]
  },
  {
   "cell_type": "code",
   "execution_count": 143,
   "metadata": {},
   "outputs": [
    {
     "data": {
      "text/plain": [
       "'0.19.1'"
      ]
     },
     "execution_count": 143,
     "metadata": {},
     "output_type": "execute_result"
    }
   ],
   "source": [
    "sklearn.__version__"
   ]
  },
  {
   "cell_type": "code",
   "execution_count": 149,
   "metadata": {},
   "outputs": [
    {
     "ename": "ImportError",
     "evalue": "cannot import name '_object_dtype_isnan'",
     "output_type": "error",
     "traceback": [
      "\u001b[1;31m---------------------------------------------------------------------------\u001b[0m",
      "\u001b[1;31mImportError\u001b[0m                               Traceback (most recent call last)",
      "\u001b[1;32m<ipython-input-149-96cc14e545e8>\u001b[0m in \u001b[0;36m<module>\u001b[1;34m()\u001b[0m\n\u001b[1;32m----> 1\u001b[1;33m \u001b[1;32mfrom\u001b[0m \u001b[0msklearn\u001b[0m\u001b[1;33m.\u001b[0m\u001b[0mimpute\u001b[0m \u001b[1;32mimport\u001b[0m \u001b[0mSimpleImputer\u001b[0m\u001b[1;33m\u001b[0m\u001b[0m\n\u001b[0m\u001b[0;32m      2\u001b[0m \u001b[1;33m\u001b[0m\u001b[0m\n\u001b[0;32m      3\u001b[0m \u001b[0mimp\u001b[0m \u001b[1;33m=\u001b[0m \u001b[0mSimpleImputer\u001b[0m\u001b[1;33m(\u001b[0m\u001b[0mmissing_values\u001b[0m\u001b[1;33m=\u001b[0m\u001b[0mnp\u001b[0m\u001b[1;33m.\u001b[0m\u001b[0mnan\u001b[0m\u001b[1;33m,\u001b[0m\u001b[0mstrategy\u001b[0m\u001b[1;33m=\u001b[0m\u001b[1;34m\"most_frequent\"\u001b[0m\u001b[1;33m)\u001b[0m\u001b[1;33m\u001b[0m\u001b[0m\n\u001b[0;32m      4\u001b[0m \u001b[0mimp\u001b[0m\u001b[1;33m.\u001b[0m\u001b[0mfit_transform\u001b[0m\u001b[1;33m(\u001b[0m\u001b[0mdataset\u001b[0m\u001b[1;33m)\u001b[0m\u001b[1;33m\u001b[0m\u001b[0m\n\u001b[0;32m      5\u001b[0m \u001b[1;33m\u001b[0m\u001b[0m\n",
      "\u001b[1;32m~\\Anaconda3\\lib\\site-packages\\sklearn\\impute.py\u001b[0m in \u001b[0;36m<module>\u001b[1;34m()\u001b[0m\n\u001b[0;32m     17\u001b[0m \u001b[1;32mfrom\u001b[0m \u001b[1;33m.\u001b[0m\u001b[0mutils\u001b[0m\u001b[1;33m.\u001b[0m\u001b[0mvalidation\u001b[0m \u001b[1;32mimport\u001b[0m \u001b[0mcheck_is_fitted\u001b[0m\u001b[1;33m\u001b[0m\u001b[0m\n\u001b[0;32m     18\u001b[0m \u001b[1;32mfrom\u001b[0m \u001b[1;33m.\u001b[0m\u001b[0mutils\u001b[0m\u001b[1;33m.\u001b[0m\u001b[0mvalidation\u001b[0m \u001b[1;32mimport\u001b[0m \u001b[0mFLOAT_DTYPES\u001b[0m\u001b[1;33m\u001b[0m\u001b[0m\n\u001b[1;32m---> 19\u001b[1;33m \u001b[1;32mfrom\u001b[0m \u001b[1;33m.\u001b[0m\u001b[0mutils\u001b[0m\u001b[1;33m.\u001b[0m\u001b[0mfixes\u001b[0m \u001b[1;32mimport\u001b[0m \u001b[0m_object_dtype_isnan\u001b[0m\u001b[1;33m\u001b[0m\u001b[0m\n\u001b[0m\u001b[0;32m     20\u001b[0m \u001b[1;32mfrom\u001b[0m \u001b[1;33m.\u001b[0m\u001b[0mutils\u001b[0m \u001b[1;32mimport\u001b[0m \u001b[0mis_scalar_nan\u001b[0m\u001b[1;33m\u001b[0m\u001b[0m\n\u001b[0;32m     21\u001b[0m \u001b[1;33m\u001b[0m\u001b[0m\n",
      "\u001b[1;31mImportError\u001b[0m: cannot import name '_object_dtype_isnan'"
     ]
    }
   ],
   "source": [
    "from sklearn.impute import SimpleImputer\n",
    "\n",
    "imp = SimpleImputer(missing_values=np.nan,strategy=\"most_frequent\")\n",
    "imp.fit_transform(dataset)\n",
    "\n",
    "dataset['target'] = dataset['contract_id']          #Création d'une nouvelle colonne\n",
    "dataset.head()"
   ]
  },
  {
   "cell_type": "code",
   "execution_count": 98,
   "metadata": {},
   "outputs": [],
   "source": [
    "feature = [\"department_id\" , \"industry_id\"]\n",
    "\n",
    "features = dataset[feature] \n",
    "target = dataset['target']"
   ]
  },
  {
   "cell_type": "code",
   "execution_count": 122,
   "metadata": {},
   "outputs": [
    {
     "name": "stdout",
     "output_type": "stream",
     "text": [
      "Score =  0.8237273874631889\n"
     ]
    }
   ],
   "source": [
    "#Discrimination bayésienne \n",
    "\n",
    "from sklearn.naive_bayes import MultinomialNB\n",
    "from sklearn.linear_model impot\n",
    "from sklearn.cross_validation import ShuffleSplit, train_test_split\n",
    "\n",
    "features_train, features_test, target_train, target_test = train_test_split(features, target)\n",
    "\n",
    "clf = MultinomialNB(alpha=0.1, fit_prior=True)\n",
    "clf.fit(features_train, target_train)\n",
    "print('Score = ', clf.score(features_test, target_test))"
   ]
  },
  {
   "cell_type": "code",
   "execution_count": 120,
   "metadata": {},
   "outputs": [
    {
     "name": "stdout",
     "output_type": "stream",
     "text": [
      "Score =  0.8303533866217921\n"
     ]
    }
   ],
   "source": [
    "from sklearn.naive_bayes import MultinomialNB\n",
    "from sklearn.cross_validation import ShuffleSplit, train_test_split\n",
    "\n",
    "clf = MultinomialNB(alpha=0.1)\n",
    "clf.fit(features, target)\n",
    "print('Score = ', clf.score(features, target))"
   ]
  },
  {
   "cell_type": "code",
   "execution_count": 124,
   "metadata": {
    "scrolled": true
   },
   "outputs": [
    {
     "name": "stdout",
     "output_type": "stream",
     "text": [
      "             precision    recall  f1-score   support\n",
      "\n",
      "        1.0       0.82      1.00      0.90      1958\n",
      "        2.0       0.00      0.00      0.00       206\n",
      "        3.0       0.00      0.00      0.00       198\n",
      "        4.0       0.00      0.00      0.00        13\n",
      "        5.0       0.00      0.00      0.00         2\n",
      "\n",
      "avg / total       0.68      0.82      0.74      2377\n",
      "\n"
     ]
    },
    {
     "name": "stderr",
     "output_type": "stream",
     "text": [
      "C:\\Users\\Marine\\Anaconda3\\lib\\site-packages\\sklearn\\metrics\\classification.py:1135: UndefinedMetricWarning: Precision and F-score are ill-defined and being set to 0.0 in labels with no predicted samples.\n",
      "  'precision', 'predicted', average, warn_for)\n"
     ]
    }
   ],
   "source": [
    "print(classification_report(target_test, clf.predict(features_test)))"
   ]
  },
  {
   "cell_type": "code",
   "execution_count": 127,
   "metadata": {},
   "outputs": [
    {
     "name": "stdout",
     "output_type": "stream",
     "text": [
      "[[1958    0    0    0    0]\n",
      " [ 206    0    0    0    0]\n",
      " [ 198    0    0    0    0]\n",
      " [  13    0    0    0    0]\n",
      " [   2    0    0    0    0]]\n"
     ]
    }
   ],
   "source": [
    "#Régression logistique\n",
    "\n",
    "cls = LogisticRegression() \n",
    "cls.fit(features_train, target_train)\n",
    "predictions = cls.predict(features_test)\n",
    "cls.intercept_\n",
    "cls.coef_\n",
    "print(confusion_matrix(target_test, predictions))"
   ]
  },
  {
   "cell_type": "markdown",
   "metadata": {},
   "source": [
    "**PROBLEME**\n",
    "\n",
    "Le modèle prend toujours 1.0 en valeur puisqu'en prenant cette valeur il a très peu de chance de se tromper. En effet, sur 10 000 offres, 8 000 sont des CDI (soit 1.0)."
   ]
  }
 ],
 "metadata": {
  "kernelspec": {
   "display_name": "Python 3",
   "language": "python",
   "name": "python3"
  },
  "language_info": {
   "codemirror_mode": {
    "name": "ipython",
    "version": 3
   },
   "file_extension": ".py",
   "mimetype": "text/x-python",
   "name": "python",
   "nbconvert_exporter": "python",
   "pygments_lexer": "ipython3",
   "version": "3.6.4"
  }
 },
 "nbformat": 4,
 "nbformat_minor": 2
}
